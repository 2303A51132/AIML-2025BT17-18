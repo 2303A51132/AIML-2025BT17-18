{
  "nbformat": 4,
  "nbformat_minor": 0,
  "metadata": {
    "colab": {
      "provenance": [],
      "authorship_tag": "ABX9TyOcGi6UGjpBe9owovJW9PhE",
      "include_colab_link": true
    },
    "kernelspec": {
      "name": "python3",
      "display_name": "Python 3"
    },
    "language_info": {
      "name": "python"
    }
  },
  "cells": [
    {
      "cell_type": "markdown",
      "metadata": {
        "id": "view-in-github",
        "colab_type": "text"
      },
      "source": [
        "<a href=\"https://colab.research.google.com/github/2303A51132/AIML-2025BT17-18/blob/main/AIML_A3.ipynb\" target=\"_parent\"><img src=\"https://colab.research.google.com/assets/colab-badge.svg\" alt=\"Open In Colab\"/></a>"
      ]
    },
    {
      "cell_type": "code",
      "source": [
        "from collections import namedtuple\n",
        "from typing import Dict, Callable, List, Optional\n",
        "\n",
        "# Define a simple Tic-Tac-Toe state\n",
        "class TicTacToeState(namedtuple('TicTacToeState', 'board to_move')):\n",
        "    def __repr__(self):\n",
        "        return f\"State(to_move={self.to_move}, board={self.board})\"\n",
        "\n",
        "# Define the TicTacToe game\n",
        "class TicTacToe(Game):\n",
        "    def __init__(self):\n",
        "        self.initial = TicTacToeState(\n",
        "            board=[' '] * 9,  # 3x3 board, initially empty\n",
        "            to_move='X'  # X starts the game\n",
        "        )\n",
        "\n",
        "    def actions(self, state: TicTacToeState) -> List[int]:\n",
        "        \"\"\"Return a list of available positions (0-8) on the board.\"\"\"\n",
        "        return [i for i, spot in enumerate(state.board) if spot == ' ']\n",
        "\n",
        "    def result(self, state: TicTacToeState, move: int) -> TicTacToeState:\n",
        "        \"\"\"Return the new state after making a move.\"\"\"\n",
        "        board = state.board[:]\n",
        "        board[move] = state.to_move\n",
        "        next_player = 'O' if state.to_move == 'X' else 'X'\n",
        "        return TicTacToeState(board=board, to_move=next_player)\n",
        "\n",
        "    def is_terminal(self, state: TicTacToeState) -> bool:\n",
        "        \"\"\"Check if the game has ended.\"\"\"\n",
        "        win_conditions = [\n",
        "            (0, 1, 2), (3, 4, 5), (6, 7, 8),  # Rows\n",
        "            (0, 3, 6), (1, 4, 7), (2, 5, 8),  # Columns\n",
        "            (0, 4, 8), (2, 4, 6)  # Diagonals\n",
        "        ]\n",
        "        for (a, b, c) in win_conditions:\n",
        "            if state.board[a] == state.board[b] == state.board[c] != ' ':\n",
        "                return True\n",
        "        if ' ' not in state.board:  # Check for draw\n",
        "            return True\n",
        "        return False\n",
        "\n",
        "    def utility(self, state: TicTacToeState, player: str) -> int:\n",
        "        \"\"\"Return the utility value for the player in a terminal state.\"\"\"\n",
        "        win_conditions = [\n",
        "            (0, 1, 2), (3, 4, 5), (6, 7, 8),  # Rows\n",
        "            (0, 3, 6), (1, 4, 7), (2, 5, 8),  # Columns\n",
        "            (0, 4, 8), (2, 4, 6)  # Diagonals\n",
        "        ]\n",
        "        for (a, b, c) in win_conditions:\n",
        "            if state.board[a] == state.board[b] == state.board[c] == player:\n",
        "                return 1  # Player wins\n",
        "        if ' ' not in state.board:  # Check for draw\n",
        "            return 0  # Draw\n",
        "        return 0  # Game is not over\n",
        "\n",
        "# Example strategies\n",
        "def random_strategy(game: Game, state: TicTacToeState) -> int:\n",
        "    \"\"\"Choose a random valid move.\"\"\"\n",
        "    return random.choice(game.actions(state))\n",
        "\n",
        "# Play a game with the provided strategies\n",
        "def play_game(game: Game, strategies: Dict[str, Callable[[Game, TicTacToeState], int]], verbose: bool = False) -> TicTacToeState:\n",
        "    state = game.initial\n",
        "    while not game.is_terminal(state):\n",
        "        player = state.to_move\n",
        "        move = strategies[player](game, state)\n",
        "        state = game.result(state, move)\n",
        "        if verbose:\n",
        "            print('Player', player, 'move:', move)\n",
        "            print(state)\n",
        "    return state\n",
        "\n",
        "# Example usage\n",
        "if __name__ == \"__main__\":\n",
        "    game = TicTacToe()\n",
        "    strategies = {\n",
        "        'X': random_strategy,\n",
        "        'O': random_strategy\n",
        "    }\n",
        "    final_state = play_game(game, strategies, verbose=True)\n",
        "    print('Final state:', final_state)\n",
        "    print('Utility for X:', game.utility(final_state, 'X'))\n",
        "    print('Utility for O:', game.utility(final_state, 'O'))\n"
      ],
      "metadata": {
        "colab": {
          "base_uri": "https://localhost:8080/"
        },
        "id": "A4UN0z2P7nlF",
        "outputId": "e7055dff-098a-4830-ce04-ba8c275995c5"
      },
      "execution_count": null,
      "outputs": [
        {
          "output_type": "stream",
          "name": "stdout",
          "text": [
            "Player X move: 1\n",
            "State(to_move=O, board=[' ', 'X', ' ', ' ', ' ', ' ', ' ', ' ', ' '])\n",
            "Player O move: 7\n",
            "State(to_move=X, board=[' ', 'X', ' ', ' ', ' ', ' ', ' ', 'O', ' '])\n",
            "Player X move: 4\n",
            "State(to_move=O, board=[' ', 'X', ' ', ' ', 'X', ' ', ' ', 'O', ' '])\n",
            "Player O move: 0\n",
            "State(to_move=X, board=['O', 'X', ' ', ' ', 'X', ' ', ' ', 'O', ' '])\n",
            "Player X move: 2\n",
            "State(to_move=O, board=['O', 'X', 'X', ' ', 'X', ' ', ' ', 'O', ' '])\n",
            "Player O move: 5\n",
            "State(to_move=X, board=['O', 'X', 'X', ' ', 'X', 'O', ' ', 'O', ' '])\n",
            "Player X move: 6\n",
            "State(to_move=O, board=['O', 'X', 'X', ' ', 'X', 'O', 'X', 'O', ' '])\n",
            "Final state: State(to_move=O, board=['O', 'X', 'X', ' ', 'X', 'O', 'X', 'O', ' '])\n",
            "Utility for X: 1\n",
            "Utility for O: 0\n"
          ]
        }
      ]
    }
  ]
}