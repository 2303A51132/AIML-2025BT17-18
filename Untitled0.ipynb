{
  "nbformat": 4,
  "nbformat_minor": 0,
  "metadata": {
    "colab": {
      "provenance": [],
      "authorship_tag": "ABX9TyPQB+qM4K5zLcmzYkoDuKtF",
      "include_colab_link": true
    },
    "kernelspec": {
      "name": "python3",
      "display_name": "Python 3"
    },
    "language_info": {
      "name": "python"
    }
  },
  "cells": [
    {
      "cell_type": "markdown",
      "metadata": {
        "id": "view-in-github",
        "colab_type": "text"
      },
      "source": [
        "<a href=\"https://colab.research.google.com/github/2303A51132/AIML-2025BT17-18/blob/main/Untitled0.ipynb\" target=\"_parent\"><img src=\"https://colab.research.google.com/assets/colab-badge.svg\" alt=\"Open In Colab\"/></a>"
      ]
    },
    {
      "cell_type": "markdown",
      "source": [
        "part 1- implement Basic Data Structures using Numpy,Pandas"
      ],
      "metadata": {
        "id": "GaJiXmalV3xm"
      }
    },
    {
      "cell_type": "code",
      "source": [
        "import numpy as np\n",
        "import pandas as pd\n",
        "\n",
        "# Lists\n",
        "list1 = [1, 2, 3, 4]\n",
        "list2 = [5, 6, 7, 8]\n",
        "print(\"Type of list1:\", type(list1))\n",
        "print(\"Type of list2:\", type(list2))\n",
        "\n",
        "# Arrays\n",
        "array1 = np.array([1, 2, 3, 4])\n",
        "array2 = np.array([5, 6, 7, 8])\n",
        "print(\"Type of array1:\", type(array1))\n",
        "print(\"Type of array2:\", type(array2))\n",
        "\n",
        "# Mathematical operations\n",
        "multiplication = array1 * array2\n",
        "division = array1 / array2\n",
        "poweroff = np.power(array1, 2)\n",
        "\n",
        "print(\"Multiplication:\\n\", multiplication)\n",
        "print(\"Division:\\n\", division)\n",
        "print(\"Poweroff:\\n\", poweroff)\n",
        "\n",
        "# Combine text with NumPy functions\n",
        "addition_output = f\"Addition of Two:\\n{array1 + array2}\"\n",
        "print(addition_output)\n",
        "\n",
        "# NumPy functions\n",
        "sine_values = np.sin(array1)\n",
        "log_values = np.log(array1 + 1)\n",
        "log2_values = np.log2(array1 + 1)\n",
        "exp_values = np.exp(array1)\n",
        "\n",
        "print(\"Sine values:\\n\", sine_values)\n",
        "print(\"Log values:\\n\", log_values)\n",
        "print(\"Log2 values:\\n\", log2_values)\n",
        "print(\"Exp values:\\n\", exp_values)\n",
        "\n",
        "# Pandas DataFrames\n",
        "df1 = pd.DataFrame({'A': array1, 'B': array2})\n",
        "df2 = pd.DataFrame({'C': [10, 20, 30, 40]})\n",
        "df_combined = pd.concat([df1, df2], axis=1)\n",
        "\n",
        "print(\"DataFrame 1:\\n\", df1)\n",
        "print(\"DataFrame 2:\\n\", df2)\n",
        "print(\"Combined DataFrame:\\n\", df_combined)\n"
      ],
      "metadata": {
        "colab": {
          "base_uri": "https://localhost:8080/"
        },
        "id": "N79Eq4o3YEdM",
        "outputId": "19218367-260c-42c0-f6df-2d67cd26767e"
      },
      "execution_count": 5,
      "outputs": [
        {
          "output_type": "stream",
          "name": "stdout",
          "text": [
            "Type of list1: <class 'list'>\n",
            "Type of list2: <class 'list'>\n",
            "Type of array1: <class 'numpy.ndarray'>\n",
            "Type of array2: <class 'numpy.ndarray'>\n",
            "Multiplication:\n",
            " [ 5 12 21 32]\n",
            "Division:\n",
            " [0.2        0.33333333 0.42857143 0.5       ]\n",
            "Poweroff:\n",
            " [ 1  4  9 16]\n",
            "Addition of Two:\n",
            "[ 6  8 10 12]\n",
            "Sine values:\n",
            " [ 0.84147098  0.90929743  0.14112001 -0.7568025 ]\n",
            "Log values:\n",
            " [0.69314718 1.09861229 1.38629436 1.60943791]\n",
            "Log2 values:\n",
            " [1.         1.5849625  2.         2.32192809]\n",
            "Exp values:\n",
            " [ 2.71828183  7.3890561  20.08553692 54.59815003]\n",
            "DataFrame 1:\n",
            "    A  B\n",
            "0  1  5\n",
            "1  2  6\n",
            "2  3  7\n",
            "3  4  8\n",
            "DataFrame 2:\n",
            "     C\n",
            "0  10\n",
            "1  20\n",
            "2  30\n",
            "3  40\n",
            "Combined DataFrame:\n",
            "    A  B   C\n",
            "0  1  5  10\n",
            "1  2  6  20\n",
            "2  3  7  30\n",
            "3  4  8  40\n"
          ]
        }
      ]
    }
  ]
}